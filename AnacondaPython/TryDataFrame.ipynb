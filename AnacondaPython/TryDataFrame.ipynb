{
 "cells": [
  {
   "cell_type": "code",
   "execution_count": 2,
   "metadata": {
    "collapsed": false
   },
   "outputs": [],
   "source": [
    "\n",
    "import pandas as pd\n",
    "import matplotlib\n",
    "import numpy as np\n",
    "import matplotlib.pyplot as plt\n",
    "\n",
    "plt.style.use('seaborn-colorblind')\n",
    "\n",
    "dataset = pd.read_csv(\"C:\\Users\\Noora\\Downloads\\PDI.csv\")\n"
   ]
  },
  {
   "cell_type": "code",
   "execution_count": 21,
   "metadata": {
    "collapsed": false
   },
   "outputs": [
    {
     "data": {
      "text/html": [
       "<div>\n",
       "<table border=\"1\" class=\"dataframe\">\n",
       "  <thead>\n",
       "    <tr style=\"text-align: right;\">\n",
       "      <th></th>\n",
       "      <th>Year</th>\n",
       "      <th>PDI</th>\n",
       "      <th>Observed</th>\n",
       "      <th>Expected</th>\n",
       "    </tr>\n",
       "  </thead>\n",
       "  <tbody>\n",
       "    <tr>\n",
       "      <th>0</th>\n",
       "      <td>2009</td>\n",
       "      <td>Asthma</td>\n",
       "      <td>242.83</td>\n",
       "      <td>242.83</td>\n",
       "    </tr>\n",
       "    <tr>\n",
       "      <th>1</th>\n",
       "      <td>2010</td>\n",
       "      <td>Asthma</td>\n",
       "      <td>205.77</td>\n",
       "      <td>205.77</td>\n",
       "    </tr>\n",
       "    <tr>\n",
       "      <th>2</th>\n",
       "      <td>2011</td>\n",
       "      <td>Asthma</td>\n",
       "      <td>206.28</td>\n",
       "      <td>206.28</td>\n",
       "    </tr>\n",
       "    <tr>\n",
       "      <th>3</th>\n",
       "      <td>2012</td>\n",
       "      <td>Asthma</td>\n",
       "      <td>210.39</td>\n",
       "      <td>210.39</td>\n",
       "    </tr>\n",
       "    <tr>\n",
       "      <th>4</th>\n",
       "      <td>2009</td>\n",
       "      <td>Diabetes Short-term Complications</td>\n",
       "      <td>27.72</td>\n",
       "      <td>27.72</td>\n",
       "    </tr>\n",
       "  </tbody>\n",
       "</table>\n",
       "</div>"
      ],
      "text/plain": [
       "   Year                                PDI  Observed  Expected\n",
       "0  2009                             Asthma    242.83    242.83\n",
       "1  2010                             Asthma    205.77    205.77\n",
       "2  2011                             Asthma    206.28    206.28\n",
       "3  2012                             Asthma    210.39    210.39\n",
       "4  2009  Diabetes Short-term Complications     27.72     27.72"
      ]
     },
     "execution_count": 21,
     "metadata": {},
     "output_type": "execute_result"
    }
   ],
   "source": [
    "dataset2 = dataset [['Year', 'PDI', 'Observed', 'Expected']]\n",
    "dataset2.head()"
   ]
  },
  {
   "cell_type": "code",
   "execution_count": 25,
   "metadata": {
    "collapsed": false
   },
   "outputs": [
    {
     "data": {
      "text/html": [
       "<div>\n",
       "<table border=\"1\" class=\"dataframe\">\n",
       "  <thead>\n",
       "    <tr style=\"text-align: right;\">\n",
       "      <th></th>\n",
       "      <th></th>\n",
       "      <th>Observed</th>\n",
       "      <th>Expected</th>\n",
       "    </tr>\n",
       "    <tr>\n",
       "      <th>Year</th>\n",
       "      <th>PDI</th>\n",
       "      <th></th>\n",
       "      <th></th>\n",
       "    </tr>\n",
       "  </thead>\n",
       "  <tbody>\n",
       "    <tr>\n",
       "      <th rowspan=\"5\" valign=\"top\">2009</th>\n",
       "      <th>Asthma</th>\n",
       "      <td>7827.24</td>\n",
       "      <td>10295.30</td>\n",
       "    </tr>\n",
       "    <tr>\n",
       "      <th>Diabetes Short-term Complications</th>\n",
       "      <td>1753.39</td>\n",
       "      <td>1567.62</td>\n",
       "    </tr>\n",
       "    <tr>\n",
       "      <th>Gastroenteritis</th>\n",
       "      <td>7310.82</td>\n",
       "      <td>7187.63</td>\n",
       "    </tr>\n",
       "    <tr>\n",
       "      <th>Pediatric Quality Acute Composite</th>\n",
       "      <td>3917.26</td>\n",
       "      <td>3979.87</td>\n",
       "    </tr>\n",
       "    <tr>\n",
       "      <th>Pediatric Quality Chronic Composite</th>\n",
       "      <td>6953.87</td>\n",
       "      <td>8472.29</td>\n",
       "    </tr>\n",
       "  </tbody>\n",
       "</table>\n",
       "</div>"
      ],
      "text/plain": [
       "                                          Observed  Expected\n",
       "Year PDI                                                    \n",
       "2009 Asthma                                7827.24  10295.30\n",
       "     Diabetes Short-term Complications     1753.39   1567.62\n",
       "     Gastroenteritis                       7310.82   7187.63\n",
       "     Pediatric Quality Acute Composite     3917.26   3979.87\n",
       "     Pediatric Quality Chronic Composite   6953.87   8472.29"
      ]
     },
     "execution_count": 25,
     "metadata": {},
     "output_type": "execute_result"
    }
   ],
   "source": [
    "YearGroup = dataset2.groupby(['Year', 'PDI']).sum()\n",
    "\n",
    "YearGroup.head()"
   ]
  },
  {
   "cell_type": "code",
   "execution_count": null,
   "metadata": {
    "collapsed": true
   },
   "outputs": [],
   "source": []
  }
 ],
 "metadata": {
  "kernelspec": {
   "display_name": "Python 2",
   "language": "python",
   "name": "python2"
  },
  "language_info": {
   "codemirror_mode": {
    "name": "ipython",
    "version": 2
   },
   "file_extension": ".py",
   "mimetype": "text/x-python",
   "name": "python",
   "nbconvert_exporter": "python",
   "pygments_lexer": "ipython2",
   "version": "2.7.13"
  }
 },
 "nbformat": 4,
 "nbformat_minor": 2
}
